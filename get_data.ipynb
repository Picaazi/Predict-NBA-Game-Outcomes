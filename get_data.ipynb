{
 "cells": [
  {
   "cell_type": "code",
   "execution_count": 1,
   "metadata": {},
   "outputs": [],
   "source": [
    "import os\n",
    "from bs4 import BeautifulSoup\n",
    "from playwright.async_api import async_playwright, TimeoutError as PlaywrightTimeout\n",
    "import time"
   ]
  },
  {
   "cell_type": "code",
   "execution_count": 13,
   "metadata": {},
   "outputs": [],
   "source": [
    "SEASONS = list(range(2020,2024))\n",
    "\n",
    "# pointer to the directories\n",
    "DATA_DIR = \"data\"\n",
    "STANDINGS_DIR = os.path.join(DATA_DIR, \"standings\")\n",
    "SCORES_DIR = os.path.join(DATA_DIR, \"scores\")"
   ]
  },
  {
   "cell_type": "code",
   "execution_count": 14,
   "metadata": {},
   "outputs": [],
   "source": [
    "async def get_html(url, selector, sleep = 1, retries = 3):\n",
    "    html = None\n",
    "    \n",
    "    # Start trying\n",
    "    for i in range(1,retries):\n",
    "        time.sleep(sleep * i)\n",
    "        \n",
    "        try:\n",
    "            async with async_playwright() as p:\n",
    "                brower = await p.chromium.launch() # open brower\n",
    "                page = await brower.new_page() # open a new page\n",
    "                await page.goto(url) # go to the page\n",
    "                print(await page.title() + url.split(\"/\")[-1])\n",
    "                html = await page.inner_html(selector)\n",
    "        except PlaywrightTimeout:\n",
    "                print(f\"Timeout error on {url}\")\n",
    "                continue\n",
    "        else:\n",
    "            break\n",
    "        \n",
    "    return html"
   ]
  },
  {
   "cell_type": "code",
   "execution_count": 15,
   "metadata": {},
   "outputs": [],
   "source": [
    "async def scrape_season(season):\n",
    "    url = f\"https://www.basketball-reference.com/leagues/NBA_{season}_games.html\"\n",
    "    html = await get_html(url, \"#content .filter\")\n",
    "    \n",
    "    soup = BeautifulSoup(html)\n",
    "    links = soup.find_all(\"a\")\n",
    "    href = [l[\"href\"] for l in links]\n",
    "    standings_pages = [f\"https://basketball-reference.com{l}\" for l in href]\n",
    "    \n",
    "    for url in standings_pages:\n",
    "        save_path = os.path.join(STANDINGS_DIR, url.split(\"/\")[-1])\n",
    "        if os.path.exists(save_path):\n",
    "            continue\n",
    "        \n",
    "        html = await get_html(url, \"#all_schedule\")\n",
    "        with open(save_path, \"w+\") as f:\n",
    "            f.write(html)"
   ]
  },
  {
   "cell_type": "code",
   "execution_count": 16,
   "metadata": {},
   "outputs": [
    {
     "name": "stdout",
     "output_type": "stream",
     "text": [
      "2019-20 NBA Schedule | Basketball-Reference.comNBA_2020_games.html\n",
      "2019-20 NBA Schedule | Basketball-Reference.comNBA_2020_games-october.html\n",
      "2019-20 NBA Schedule | Basketball-Reference.comNBA_2020_games-november.html\n",
      "2019-20 NBA Schedule | Basketball-Reference.comNBA_2020_games-december.html\n",
      "2019-20 NBA Schedule | Basketball-Reference.comNBA_2020_games-january.html\n",
      "2019-20 NBA Schedule | Basketball-Reference.comNBA_2020_games-february.html\n",
      "2019-20 NBA Schedule | Basketball-Reference.comNBA_2020_games-march.html\n",
      "2019-20 NBA Schedule | Basketball-Reference.comNBA_2020_games-july.html\n",
      "2019-20 NBA Schedule | Basketball-Reference.comNBA_2020_games-august.html\n",
      "2019-20 NBA Schedule | Basketball-Reference.comNBA_2020_games-september.html\n",
      "2020-21 NBA Schedule | Basketball-Reference.comNBA_2021_games.html\n",
      "2021-22 NBA Schedule | Basketball-Reference.comNBA_2022_games.html\n",
      "2022-23 NBA Schedule | Basketball-Reference.comNBA_2023_games.html\n"
     ]
    }
   ],
   "source": [
    "for season in SEASONS:\n",
    "    await scrape_season(season)"
   ]
  },
  {
   "cell_type": "code",
   "execution_count": 17,
   "metadata": {},
   "outputs": [],
   "source": [
    "standings_files = os.listdir(STANDINGS_DIR)"
   ]
  },
  {
   "cell_type": "code",
   "execution_count": 18,
   "metadata": {},
   "outputs": [],
   "source": [
    "async def scrape_game(standings_file):\n",
    "    with open(standings_file, \"r\") as f:\n",
    "        html = f.read()\n",
    "        \n",
    "    soup = BeautifulSoup(html)\n",
    "    links = soup.find_all(\"a\")\n",
    "    hrefs = [l.get(\"href\") for l in links]\n",
    "    box_scores = [l for l in hrefs if l and \"boxscore\" in l and \".html\" in l]\n",
    "    box_scores = [f\"https://www.basketball-reference.com{l}\" for l in box_scores]\n",
    "\n",
    "    for url in box_scores:\n",
    "        save_path = os.path.join(SCORES_DIR, url.split(\"/\")[-1])\n",
    "        if os.path.exists(save_path):\n",
    "            continue\n",
    "        \n",
    "        html = await get_html(url, \"#content\")\n",
    "        if not html:\n",
    "            continue\n",
    "        with open(save_path, \"w+\") as f:\n",
    "            f.write(html)"
   ]
  },
  {
   "cell_type": "code",
   "execution_count": 19,
   "metadata": {},
   "outputs": [],
   "source": [
    "standing_files = [s for s in standings_files if \".html\" in s]"
   ]
  },
  {
   "cell_type": "code",
   "execution_count": 23,
   "metadata": {},
   "outputs": [
    {
     "data": {
      "text/plain": [
       "['NBA_2020_games-august.html',\n",
       " 'NBA_2020_games-december.html',\n",
       " 'NBA_2020_games-february.html',\n",
       " 'NBA_2020_games-january.html',\n",
       " 'NBA_2020_games-july.html',\n",
       " 'NBA_2020_games-march.html',\n",
       " 'NBA_2020_games-november.html',\n",
       " 'NBA_2020_games-october.html',\n",
       " 'NBA_2020_games-september.html',\n",
       " 'NBA_2021_games-april.html',\n",
       " 'NBA_2021_games-december.html',\n",
       " 'NBA_2021_games-february.html',\n",
       " 'NBA_2021_games-january.html',\n",
       " 'NBA_2021_games-july.html',\n",
       " 'NBA_2021_games-june.html',\n",
       " 'NBA_2021_games-march.html',\n",
       " 'NBA_2021_games-may.html',\n",
       " 'NBA_2022_games-april.html',\n",
       " 'NBA_2022_games-december.html',\n",
       " 'NBA_2022_games-february.html',\n",
       " 'NBA_2022_games-january.html',\n",
       " 'NBA_2022_games-june.html',\n",
       " 'NBA_2022_games-march.html',\n",
       " 'NBA_2022_games-may.html',\n",
       " 'NBA_2022_games-november.html',\n",
       " 'NBA_2022_games-october.html',\n",
       " 'NBA_2023_games-april.html',\n",
       " 'NBA_2023_games-december.html',\n",
       " 'NBA_2023_games-february.html',\n",
       " 'NBA_2023_games-january.html',\n",
       " 'NBA_2023_games-june.html',\n",
       " 'NBA_2023_games-march.html',\n",
       " 'NBA_2023_games-may.html',\n",
       " 'NBA_2023_games-november.html',\n",
       " 'NBA_2023_games-october.html']"
      ]
     },
     "execution_count": 23,
     "metadata": {},
     "output_type": "execute_result"
    }
   ],
   "source": [
    "standing_files.sort()\n",
    "standing_files"
   ]
  },
  {
   "cell_type": "code",
   "execution_count": 28,
   "metadata": {},
   "outputs": [
    {
     "name": "stdout",
     "output_type": "stream",
     "text": [
      "\n",
      "Now scrapping file: NBA_2020_games-august.html\n",
      "Progress:0/35\n",
      "\n",
      "\n",
      "Now scrapping file: NBA_2020_games-december.html\n",
      "Progress:1/35\n",
      "\n",
      "\n",
      "Now scrapping file: NBA_2020_games-february.html\n",
      "Progress:2/35\n",
      "\n",
      "\n",
      "Now scrapping file: NBA_2020_games-january.html\n",
      "Progress:3/35\n",
      "\n",
      "\n",
      "Now scrapping file: NBA_2020_games-july.html\n",
      "Progress:4/35\n",
      "\n",
      "\n",
      "Now scrapping file: NBA_2020_games-march.html\n",
      "Progress:5/35\n",
      "\n",
      "\n",
      "Now scrapping file: NBA_2020_games-november.html\n",
      "Progress:6/35\n",
      "\n",
      "\n",
      "Now scrapping file: NBA_2020_games-october.html\n",
      "Progress:7/35\n",
      "\n",
      "\n",
      "Now scrapping file: NBA_2020_games-september.html\n",
      "Progress:8/35\n",
      "\n",
      "\n",
      "Now scrapping file: NBA_2021_games-april.html\n",
      "Progress:9/35\n",
      "\n",
      "\n",
      "Now scrapping file: NBA_2021_games-december.html\n",
      "Progress:10/35\n",
      "\n",
      "\n",
      "Now scrapping file: NBA_2021_games-february.html\n",
      "Progress:11/35\n",
      "\n",
      "\n",
      "Now scrapping file: NBA_2021_games-january.html\n",
      "Progress:12/35\n",
      "\n",
      "\n",
      "Now scrapping file: NBA_2021_games-july.html\n",
      "Progress:13/35\n",
      "\n",
      "\n",
      "Now scrapping file: NBA_2021_games-june.html\n",
      "Progress:14/35\n",
      "\n",
      "\n",
      "Now scrapping file: NBA_2021_games-march.html\n",
      "Progress:15/35\n",
      "\n",
      "\n",
      "Now scrapping file: NBA_2021_games-may.html\n",
      "Progress:16/35\n",
      "\n",
      "\n",
      "Now scrapping file: NBA_2022_games-april.html\n",
      "Progress:17/35\n",
      "\n",
      "\n",
      "Now scrapping file: NBA_2022_games-december.html\n",
      "Progress:18/35\n",
      "\n",
      "\n",
      "Now scrapping file: NBA_2022_games-february.html\n",
      "Progress:19/35\n",
      "\n",
      "\n",
      "Now scrapping file: NBA_2022_games-january.html\n",
      "Progress:20/35\n",
      "\n",
      "\n",
      "Now scrapping file: NBA_2022_games-june.html\n",
      "Progress:21/35\n",
      "\n",
      "\n",
      "Now scrapping file: NBA_2022_games-march.html\n",
      "Progress:22/35\n",
      "\n",
      "\n",
      "Now scrapping file: NBA_2022_games-may.html\n",
      "Progress:23/35\n",
      "\n",
      "\n",
      "Now scrapping file: NBA_2022_games-november.html\n",
      "Progress:24/35\n",
      "\n",
      "\n",
      "Now scrapping file: NBA_2022_games-october.html\n",
      "Progress:25/35\n",
      "\n",
      "\n",
      "Now scrapping file: NBA_2023_games-april.html\n",
      "Progress:26/35\n",
      "\n",
      "\n",
      "Now scrapping file: NBA_2023_games-december.html\n",
      "Progress:27/35\n",
      "\n",
      "\n",
      "Now scrapping file: NBA_2023_games-february.html\n",
      "Progress:28/35\n",
      "\n",
      "\n",
      "Now scrapping file: NBA_2023_games-january.html\n",
      "Progress:29/35\n",
      "\n",
      "\n",
      "Now scrapping file: NBA_2023_games-june.html\n",
      "Progress:30/35\n",
      "\n",
      "\n",
      "Now scrapping file: NBA_2023_games-march.html\n",
      "Progress:31/35\n",
      "\n",
      "\n",
      "Now scrapping file: NBA_2023_games-may.html\n",
      "Progress:32/35\n",
      "\n",
      "\n",
      "Now scrapping file: NBA_2023_games-november.html\n",
      "Progress:33/35\n",
      "\n",
      "\n",
      "Now scrapping file: NBA_2023_games-october.html\n",
      "Progress:34/35\n",
      "\n"
     ]
    }
   ],
   "source": [
    "for i in range(len(standing_files)):\n",
    "    print(f\"\\nNow scrapping file: {standing_files[i]}\\nProgress:{i}/{len(standing_files)}\\n\")\n",
    "    filepath = os.path.join(STANDINGS_DIR, standing_files[i])\n",
    "    await scrape_game(filepath)"
   ]
  },
  {
   "cell_type": "code",
   "execution_count": null,
   "metadata": {},
   "outputs": [
    {
     "name": "stdout",
     "output_type": "stream",
     "text": [
      "917\n"
     ]
    }
   ],
   "source": [
    "lst = os.listdir(SCORES_DIR) # your directory path\n",
    "number_files = len(lst)\n",
    "print(number_files)"
   ]
  },
  {
   "cell_type": "code",
   "execution_count": null,
   "metadata": {},
   "outputs": [],
   "source": []
  }
 ],
 "metadata": {
  "kernelspec": {
   "display_name": "Python 3",
   "language": "python",
   "name": "python3"
  },
  "language_info": {
   "codemirror_mode": {
    "name": "ipython",
    "version": 3
   },
   "file_extension": ".py",
   "mimetype": "text/x-python",
   "name": "python",
   "nbconvert_exporter": "python",
   "pygments_lexer": "ipython3",
   "version": "3.9.19"
  }
 },
 "nbformat": 4,
 "nbformat_minor": 2
}
